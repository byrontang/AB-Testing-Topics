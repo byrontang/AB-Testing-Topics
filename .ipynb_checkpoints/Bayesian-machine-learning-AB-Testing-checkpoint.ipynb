{
 "cells": [
  {
   "cell_type": "markdown",
   "metadata": {},
   "source": [
    "## What is Bayesian Machine Learning (Bayesian from the Concept of Machine Learning)\n",
    "- Bayes Role is not Bayesian machine learning\n",
    "- Even MAP (maximum a posteriori) is not Bayesian\n",
    "- Disregard your preconceived notions about what Bayesian ML is\n",
    "- This topic has many faces! Learn to recognize them all\n",
    "\n",
    "### The Bayesian Approach\n",
    "- Everything is a random variable (include mean and variance)\n",
    "- We don't solve for $\\mu, \\sigma^2$\n",
    "- Instead, we find $p(\\mu, \\sigma^2 | X)$, the distribution of mu and sigma given $X$.\n",
    "- We don't find a number (what frequensist does), we find a distribution\n",
    "\n",
    "### Bayesian Network\n",
    "- You can model specific dependencies based on your understanding of the system. In this way, you're actually modeling **causation**.\n",
    "- Bayesian network is actually modeling dependencies.\n",
    "\n",
    "### Summary\n",
    "- Bayesian mcahine learning is vast.\n",
    "- Bayesian ML may even be more complex than deep learning.\n",
    "- A/B Testing is the most readily applicable of all ML ideas.\n",
    "- A/B Testing is nice because it has some theory but is very applicable.\n",
    "\n",
    "\n",
    "## Bayes Rule\n",
    "Most simple form: $p(A|B) = \\frac{p(A, B)}{p(B)}$\n",
    "\n",
    "A = {Buyes, Does Not Buy}, B = {USA, Canada, Mexico}\n",
    "\n",
    "The ***joint probability*** of each of the 6 outcomes is each volume divided by total sum. The sum of the joint probabilities are equal to 1.\n",
    "\n",
    "#### Note - Curse of dimensionality: As the volume grows, we need to do more computation and need more samples to get accurate estimates.\n",
    "\n",
    "\n",
    "The ***conditional proabialities*** in a given country is the joint probability divided by the marginal probability of the contry. The sum of probabilities here becomes 3: **When the contry is given, the country is not random anymore. The space of random variables is only buy/not buy.**\n",
    "\n",
    "### Independence\n",
    "**When 2 variables are independent, the joint probability becomes the muptiple of the margins**, e.g. if A & B are independent:\n",
    "$$p(A,B) = p(A)p(B)$$\n",
    "So, if Buy and Country are independent:\n",
    "$$p(Buy | Country) = \\frac{p(Buy, Country)}{p(Country)} = \\frac{p(Buy) p(Country)}{p(Country)} = p(Buy)$$\n",
    "\n",
    "**The conditional probability just becoms the marginal proabability.**\n",
    "\n",
    "Note for intuition: The conditional probability has no difference to marginal probability any more when the two varialbes are independent.\n",
    "\n",
    "### Manipulating Bayes Rules\n",
    "\n",
    "$$ p(A|B) = \\frac{p(A, B)}{p(B)} = \\frac{p(B |A)p(A)}{p(B)} $$\n",
    "\n",
    "Often time, We are interested in solving $p(A|B)$ but don't know $p(B)$. \n",
    "\n",
    "$$p(A|B) = \\frac{p(B|A) p(A)}{Z} $$\n",
    "We can also think of the bottom term as a \"normalization constant\" so that the distribution sums to 1:\n",
    "\n",
    "$$p(A|B) \\propto p(B|A)p(A)$$\n",
    "Many times, we just want the $\\operatorname*{argmax}_A P(A|B)$\n",
    "\n",
    "$Z$ is independent of A, so:\n",
    "$$\\operatorname*{argmax}_Ap(A|B) = \\operatorname*{argmax}_A p(B|A)p(A)$$\n",
    "\n",
    "\n",
    "$$ p(A|B)p(B) = p(B|A)p(A) $$\n",
    "\n",
    "### Bayes for Classification\n",
    "$$p(y|x) = \\frac{p(x|y)p(y)}{p(x)}$$\n",
    "$p(x|y)$ is a generative distribution - it tells us **\"what does x look like? given the class if y.\"**\n",
    "\n",
    "**While a Bayes classifier makes use of Bayes rule, it does NOT necessarily make use of Bayesian statistics.**\n"
   ]
  },
  {
   "cell_type": "markdown",
   "metadata": {},
   "source": [
    "## Confidence Interval\n",
    "### Frequentist (point estimate)\n",
    "$$ \\hat{\\theta} = \\operatorname*{argmax}_{\\theta} P(X|\\theta)$$\n",
    "\n",
    "In frequentist statistics, We're trying to find the argmax of the likelihood. To get confidence interval, we get point estimate on parameters and then apply Gaussian distribution.\n",
    "- **Parameters of distribution ($\\mu, \\sigma$) are set**, we just don't know what they are.\n",
    "- **Data is randomly generated** via those distributions/parameters\n",
    "\n",
    "### Bayesian (distribution)\n",
    "$$P(\\theta|X)$$\n",
    "\n",
    "In Bayesian statistic, We're trying to find the posterior distribution of the parameter. The confidence interval is kind of built in into distribution.\n",
    "- **Parameters are random variables that have distributions**\n",
    "- **Data is fixed**\n",
    "- In this way, we can model p(param | data)\n",
    "\n",
    "***NOTE: The two concepts are opposite in terms of which is given and with is fixed.***"
   ]
  },
  {
   "cell_type": "markdown",
   "metadata": {},
   "source": [
    "## Traditional A/B Testing\n",
    "### Set up\n",
    "$$\\mu_1 =? \\mu_2$$\n",
    "- Signimicance level = $\\alpha$ (5%, 1% common)\n",
    "- Is the difference in mean between two groups statitically significant at significance level $\\alpha$?\n",
    "\n",
    "### Hypothesis\n",
    "- Null hypothesis (no difference) $H_0: \\mu_1 = \\mu_2$\n",
    "- Alternative hyposesis (one-sided test) $H_1: \\mu_1 > \\mu_2$\n",
    "- Alternative hyposesis (two-sided test) $H_1: \\mu_1 \\neq \\mu_2$\n",
    "\n",
    "### A/B Testing Recipe\n",
    "- We assume Gaussian distribution\n",
    "- We create a \"test statistics\" called \"t\"\n",
    "$$ t = \\frac{\\bar{x}_1 = \\bar{x}_2}{s_p\\sqrt{\\frac{1}{n_1}+\\frac{1}{n_2}}}, \\ where\\ s_p = \\sqrt{\\frac{(n_1-1)s^2_{x_1} + (n_2-1)s^2_{x_2}}{n_1+n_2-2}}$$\n",
    "    - $s_p$ = \"pooled std dev\" (use unbiased estimates for all s - diviced by N-1, not N)\n",
    "    - $n_1$, $n_2$ = size of EACH group\n",
    "- t is t-distributed\n",
    "\n",
    "#### Test Statistics\n",
    "- If $\\bar{x}_1 = \\bar{x}_2 \\ \\rightarrow \\ t = 0$ Falls in the center of t-distribution\n",
    "- If $\\bar{x}_1 >> \\bar{x}_2 \\ \\rightarrow \\ t = large number$ Falls in right tail\n",
    "- If $\\bar{x}_1 << \\bar{x}_2 \\ \\rightarrow \\ t = small number$ Falls in left tail\n",
    "\n",
    "For a significance level $\\alpha = 0.05$, t < -2.776 or t > 2.776. We call that a **statistically significant** difference.\n",
    "\n",
    "### Summary\n",
    "- Generate a test statistic, from that we know its distribution\n",
    "- Look to see if it's at the extreme values of the distribution (statistical significance)\n",
    "- If statistically significant, reject the null hypothesis"
   ]
  },
  {
   "cell_type": "markdown",
   "metadata": {},
   "source": [
    "### t-test\n",
    "#### t-test codes"
   ]
  },
  {
   "cell_type": "code",
   "execution_count": 1,
   "metadata": {},
   "outputs": [],
   "source": [
    "import numpy as np\n",
    "from scipy import stats"
   ]
  },
  {
   "cell_type": "code",
   "execution_count": 5,
   "metadata": {},
   "outputs": [
    {
     "name": "stdout",
     "output_type": "stream",
     "text": [
      "t: 4.446127019058609, p: 0.00031197700188134725\n"
     ]
    }
   ],
   "source": [
    "N = 10\n",
    "a = np.random.randn(N) + 2\n",
    "b = np.random.randn(N)\n",
    "\n",
    "var_a = a.var(ddof=1)\n",
    "var_b = b.var(ddof=1)\n",
    "\n",
    "# pooled standard deviation\n",
    "s = np.sqrt((var_a + var_b)/2)\n",
    "\n",
    "# t-statistics\n",
    "t = (a.mean() - b.mean()) / (s * np.sqrt(2.0/N))\n",
    "\n",
    "# degree of freedem\n",
    "df = 2*N - 2\n",
    "\n",
    "# p-value\n",
    "p = 1-stats.t.cdf(t, df=df)\n",
    "\n",
    "print(\"t: {}, p: {}\".format(t, 2*p))"
   ]
  },
  {
   "cell_type": "code",
   "execution_count": 6,
   "metadata": {},
   "outputs": [
    {
     "name": "stdout",
     "output_type": "stream",
     "text": [
      "t: 4.446127019058609, p: 0.00031197700188120874\n"
     ]
    }
   ],
   "source": [
    "# built-in scipy functions\n",
    "t2, p2 = stats.ttest_ind(a, b) #ind = independent\n",
    "print(\"t: {}, p: {}\".format(t2, p2))"
   ]
  },
  {
   "cell_type": "markdown",
   "metadata": {},
   "source": [
    "#### t-test exercise"
   ]
  },
  {
   "cell_type": "code",
   "execution_count": 7,
   "metadata": {},
   "outputs": [],
   "source": [
    "import pandas as pd"
   ]
  },
  {
   "cell_type": "code",
   "execution_count": 15,
   "metadata": {},
   "outputs": [
    {
     "data": {
      "text/html": [
       "<div>\n",
       "<style>\n",
       "    .dataframe thead tr:only-child th {\n",
       "        text-align: right;\n",
       "    }\n",
       "\n",
       "    .dataframe thead th {\n",
       "        text-align: left;\n",
       "    }\n",
       "\n",
       "    .dataframe tbody tr th {\n",
       "        vertical-align: top;\n",
       "    }\n",
       "</style>\n",
       "<table border=\"1\" class=\"dataframe\">\n",
       "  <thead>\n",
       "    <tr style=\"text-align: right;\">\n",
       "      <th></th>\n",
       "      <th>action</th>\n",
       "    </tr>\n",
       "    <tr>\n",
       "      <th>advertisement_id</th>\n",
       "      <th></th>\n",
       "    </tr>\n",
       "  </thead>\n",
       "  <tbody>\n",
       "    <tr>\n",
       "      <th>A</th>\n",
       "      <td>0.304</td>\n",
       "    </tr>\n",
       "    <tr>\n",
       "      <th>B</th>\n",
       "      <td>0.372</td>\n",
       "    </tr>\n",
       "  </tbody>\n",
       "</table>\n",
       "</div>"
      ],
      "text/plain": [
       "                  action\n",
       "advertisement_id        \n",
       "A                  0.304\n",
       "B                  0.372"
      ]
     },
     "execution_count": 15,
     "metadata": {},
     "output_type": "execute_result"
    }
   ],
   "source": [
    "clicks = pd.read_csv('../ab-testing-topics/data/advertisement_clicks.csv')\n",
    "clicks.groupby('advertisement_id').mean()"
   ]
  },
  {
   "cell_type": "code",
   "execution_count": 18,
   "metadata": {},
   "outputs": [
    {
     "data": {
      "text/plain": [
       "A    1000\n",
       "B    1000\n",
       "Name: advertisement_id, dtype: int64"
      ]
     },
     "execution_count": 18,
     "metadata": {},
     "output_type": "execute_result"
    }
   ],
   "source": [
    "clicks['advertisement_id'].value_counts()"
   ]
  },
  {
   "cell_type": "code",
   "execution_count": 20,
   "metadata": {},
   "outputs": [
    {
     "name": "stdout",
     "output_type": "stream",
     "text": [
      "t: -3.2211732138019786, p: 0.0012971905467125246\n"
     ]
    }
   ],
   "source": [
    "a = clicks['action'][clicks['advertisement_id'] == 'A']\n",
    "b = clicks['action'][clicks['advertisement_id'] == 'B']\n",
    "\n",
    "t3, p3 = stats.ttest_ind(a, b) #ind = independent\n",
    "print(\"t: {}, p: {}\".format(t3, p3))"
   ]
  },
  {
   "cell_type": "code",
   "execution_count": 21,
   "metadata": {},
   "outputs": [
    {
     "name": "stdout",
     "output_type": "stream",
     "text": [
      "Welch's t-test:\n",
      "t:\t -3.2211732138019786 p:\t 0.0012972410374001632\n"
     ]
    }
   ],
   "source": [
    "# welch's t-test:\n",
    "t, p = stats.ttest_ind(a, b, equal_var=False)\n",
    "print(\"Welch's t-test:\")\n",
    "print(\"t:\\t\", t, \"p:\\t\", p)"
   ]
  },
  {
   "cell_type": "markdown",
   "metadata": {},
   "source": [
    "### Chi-squre Test\n",
    "$$\\chi^2 = \\sum{i}\\frac{(observed_i - expected_i)^2}{expected_i}$$\n",
    "\n",
    "- $\\chi^2$ test statistic is applied on contingency table\n",
    "- Always positive\n",
    "- Like t-distribution: 1 parameter = degrees of freedom\n",
    "- Like t, also has location/scale\n",
    "- A large $\\chi^2$ test statistic will be significant\n",
    "- Shortcut for 2 by 2 contingency table: $\\chi^2 = \\frac{(ab-bc)^2(a+b+c+d)}{(a+b)(c+d)(a+c)(b+d)}$"
   ]
  },
  {
   "cell_type": "markdown",
   "metadata": {},
   "source": [
    "#### Simulation for the change of p-value overtime"
   ]
  },
  {
   "cell_type": "code",
   "execution_count": 23,
   "metadata": {},
   "outputs": [],
   "source": [
    "import matplotlib.pyplot as plt\n",
    "from scipy.stats import chi2"
   ]
  },
  {
   "cell_type": "code",
   "execution_count": 28,
   "metadata": {},
   "outputs": [
    {
     "data": {
      "image/png": "[encoded data removed]",
      "text/plain": [
       "<matplotlib.figure.Figure at 0x25d76adba58>"
      ]
     },
     "metadata": {
      "needs_background": "light"
     },
     "output_type": "display_data"
    }
   ],
   "source": [
    "class DataGenerator:\n",
    "    def __init__(self, p1, p2):\n",
    "        # p1 and p2 are the probabilities of clicks for group 1 and group 2\n",
    "        self.p1 = p1\n",
    "        self.p2 = p2\n",
    "        \n",
    "    def next(self):\n",
    "        click1 = 1 if (np.random.random() < self.p1) else 0\n",
    "        click2 = 1 if (np.random.random() < self.p2) else 0\n",
    "        return click1, click2\n",
    "    \n",
    "def get_p_values(T):\n",
    "    det = T[0,0]*T[1,1] - T[0,1]*T[1,0]\n",
    "    chi_squared = float(det) / T[0].sum() * det / T[1].sum() * T.sum() / T[:,0].sum() / T[:,1].sum()\n",
    "    p = 1-chi2.cdf(x=chi_squared, df=1)\n",
    "    return p\n",
    "\n",
    "def run_experiment(p1, p2, N):\n",
    "    data = DataGenerator(p1, p2)\n",
    "    p_values = np.empty(N)\n",
    "    T = np.zeros((2,2)).astype(np.float32)\n",
    "    for i in range(N):\n",
    "        c1, c2 = data.next()\n",
    "        T[0, c1] += 1\n",
    "        T[1, c2] += 1\n",
    "        # We need to skip first few rows beause we can't divide by 0\n",
    "        if i < 10:\n",
    "            p_values[i] = None\n",
    "        else:\n",
    "            p_values[i] = get_p_values(T)\n",
    "    plt.plot(p_values)\n",
    "    plt.plot(np.ones(N)*0.05)\n",
    "    plt.show()\n",
    "    \n",
    "run_experiment(0.1, 0.11, 20000)"
   ]
  },
  {
   "cell_type": "markdown",
   "metadata": {},
   "source": [
    "#### Chi-square exercise"
   ]
  },
  {
   "cell_type": "code",
   "execution_count": 40,
   "metadata": {},
   "outputs": [],
   "source": [
    "from scipy.stats import chi2_contingency"
   ]
  },
  {
   "cell_type": "code",
   "execution_count": 49,
   "metadata": {},
   "outputs": [
    {
     "name": "stdout",
     "output_type": "stream",
     "text": [
      "chi2: 10.332683816299898, p: 0.0013069502732125406\n"
     ]
    }
   ],
   "source": [
    "# The same dataset is used\n",
    "clicks['count'] = np.ones(len(clicks))\n",
    "df_T = clicks.groupby(['advertisement_id', 'action']).sum().reset_index()\\\n",
    "        .pivot(index = 'advertisement_id', columns = 'action', values = 'count')\n",
    "\n",
    "chi2, p, dof, expected = chi2_contingency(df_T, correction=False)\n",
    "print(\"chi2: {}, p: {}\".format(chi2, p))"
   ]
  }
 ],
 "metadata": {
  "kernelspec": {
   "display_name": "Python 3",
   "language": "python",
   "name": "python3"
  },
  "language_info": {
   "codemirror_mode": {
    "name": "ipython",
    "version": 3
   },
   "file_extension": ".py",
   "mimetype": "text/x-python",
   "name": "python",
   "nbconvert_exporter": "python",
   "pygments_lexer": "ipython3",
   "version": "3.5.2"
  }
 },
 "nbformat": 4,
 "nbformat_minor": 2
}
